{
  "nbformat": 4,
  "nbformat_minor": 0,
  "metadata": {
    "colab": {
      "name": "create_file_list.ipynb",
      "provenance": [],
      "collapsed_sections": [],
      "include_colab_link": true
    },
    "kernelspec": {
      "name": "python3",
      "display_name": "Python 3"
    },
    "language_info": {
      "name": "python"
    }
  },
  "cells": [
    {
      "cell_type": "markdown",
      "metadata": {
        "id": "view-in-github",
        "colab_type": "text"
      },
      "source": [
        "<a href=\"https://colab.research.google.com/github/JYKnomad/JYKnomad/blob/main/create_file_list.ipynb\" target=\"_parent\"><img src=\"https://colab.research.google.com/assets/colab-badge.svg\" alt=\"Open In Colab\"/></a>"
      ]
    },
    {
      "cell_type": "code",
      "source": [
        "import cv2\n",
        "import numpy as np\n",
        "from glob import glob\n",
        "from skimage.metrics import structural_similarity as ssim"
      ],
      "metadata": {
        "id": "MFtf2cFXbplS"
      },
      "execution_count": 2,
      "outputs": []
    },
    {
      "cell_type": "code",
      "execution_count": 5,
      "metadata": {
        "id": "r-1Q_Ev0P1u9"
      },
      "outputs": [],
      "source": [
        "log_record = []\n",
        "selected_file_number = []\n",
        "root = '/content/drive/MyDrive/segmentation/data/seg_001/seg_001_1/mask/'\n",
        "file_list = sorted(glob(root+'*.png'))\n",
        "\n",
        "def create(path='/content/drive/MyDrive/segmentation/data/seg_001/seg_001_1/mask/'):\n",
        "    '''\n",
        "    ----------------------------------------\n",
        "    Purpose: create the file list\n",
        "    ----------------------------------------\n",
        "    Usage:\n",
        "    >> create(path)\n",
        "    ----------------------------------------\n",
        "    Input:\n",
        "    path\n",
        "    ----------------------------------------\n",
        "    Output:\n",
        "    list of image objects(numpy arrays)\n",
        "    ----------------------------------------\n",
        "    '''\n",
        "    root = path\n",
        "    file_list_2 = sorted(glob(root+'*.png'))\n",
        "    frame_list = []\n",
        "    for elem in file_list_2:\n",
        "        temp_arr = cv2.imread(elem, cv2.IMREAD_UNCHANGED)\n",
        "        temp_arr = temp_arr -1\n",
        "        temp_arr = temp_arr * 255\n",
        "        frame_list.append(temp_arr)\n",
        "        del temp_arr\n",
        "    return frame_list\n",
        "def select(obj_list):\n",
        "    '''\n",
        "    ----------------------------------------\n",
        "    Purpose: decrease the size of input data\n",
        "    ----------------------------------------\n",
        "    Usage:\n",
        "    >> select(array_list)\n",
        "    ----------------------------------------\n",
        "    Input:\n",
        "    list of image objects(numpy arrays)\n",
        "    ----------------------------------------\n",
        "    Output:\n",
        "    list of selected files\n",
        "    ----------------------------------------\n",
        "    '''\n",
        "    n = 0\n",
        "    cumum = 0\n",
        "    limit_num = 5\n",
        "    if obj_list != None:\n",
        "        length = len(obj_list)-1\n",
        "        for i in range(length):\n",
        "            n = n + 1\n",
        "            if i != 0:\n",
        "                temp_1_obj = np.array(obj_list[i])\n",
        "                temp_2_obj = np.array(obj_list[i+1])\n",
        "                result_ssim = ssim(temp_1_obj, temp_2_obj, data_range=255)\n",
        "                if n < limit_num:\n",
        "                    if result_ssim < 0.96:\n",
        "                        out_text = '>> %03d image was     selected. MSSIM = %02.4f: and n is %d. Cumumlative: %d'%(i,result_ssim,n, cumum)\n",
        "                        print(out_text)\n",
        "                        log_record.append(out_text)\n",
        "                        selected_file_number.append(i)\n",
        "                        n = 0\n",
        "                        cumum = cumum + 1\n",
        "                    else:\n",
        "                        out_text = '>> %03d image was not selected. MSSIM = %02.4f: and n is %d. Cumulative: %d'%(i,result_ssim, n, cumum)\n",
        "                        print(out_text)\n",
        "                        log_record.append(out_text)\n",
        "                else:\n",
        "                    out_text = '>> %03d image was     selected. MSSIM = %02.4f: and n is %d. Cumulative: %d'%(i,result_ssim, n, cumum)\n",
        "                    print(out_text)\n",
        "                    selected_file_number.append(i)\n",
        "                    n = 0\n",
        "                    cumum = cumum + 1\n",
        "            else:\n",
        "                pass\n",
        "    else:\n",
        "        pass\n",
        "    print(selected_file_number)\n",
        "    return selected_file_number\n",
        "\n",
        "def save_list(selection_list, pfile_list):\n",
        "    with open('/content/drive/MyDrive/segmentation/result.txt', 'w', encoding='UTF-8') as f:\n",
        "        for i, line in enumerate(selection_list):\n",
        "            f.write('IDX %03d  '%(i+1) + str(pfile_list[line] + '\\n'))\n",
        "\n",
        "def main():\n",
        "    list_file = create()\n",
        "    a = select(list_file)\n",
        "    save_list(a, file_list)\n"
      ]
    },
    {
      "cell_type": "code",
      "source": [
        "main()"
      ],
      "metadata": {
        "id": "emvywFmbcBkR"
      },
      "execution_count": null,
      "outputs": []
    },
    {
      "cell_type": "code",
      "source": [
        ""
      ],
      "metadata": {
        "id": "lO5g14AL2sF8"
      },
      "execution_count": null,
      "outputs": []
    }
  ]
}